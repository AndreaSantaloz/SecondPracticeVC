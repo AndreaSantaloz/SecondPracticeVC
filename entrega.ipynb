{
 "cells": [
  {
   "cell_type": "markdown",
   "id": "cc159a847cca52b2",
   "metadata": {},
   "source": [
    "# VC - Entrega P2"
   ]
  },
  {
   "cell_type": "code",
   "execution_count": 2,
   "id": "6fc8b58700001dd4",
   "metadata": {
    "ExecuteTime": {
     "end_time": "2025-09-18T15:35:48.921724Z",
     "start_time": "2025-09-18T15:35:48.638903Z"
    }
   },
   "outputs": [],
   "source": [
    "import cv2\n",
    "import numpy as np\n",
    "import matplotlib.pyplot as plt\n",
    "from PIL import Image, ImageDraw, ImageFont"
   ]
  },
  {
   "cell_type": "code",
   "execution_count": 4,
   "id": "c64090b9332fa287",
   "metadata": {
    "ExecuteTime": {
     "end_time": "2025-09-18T15:36:09.882099Z",
     "start_time": "2025-09-18T15:36:09.856413Z"
    }
   },
   "outputs": [],
   "source": [
    "img = cv2.imread('mandril.jpg')\n",
    "img_rgb = cv2.cvtColor(img, cv2.COLOR_BGR2RGB)\n",
    "gris = cv2.cvtColor(img, cv2.COLOR_BGR2GRAY)\n",
    "canny = cv2.Canny(gris, 100, 200)"
   ]
  },
  {
   "cell_type": "markdown",
   "id": "50f9eb5136cadaec",
   "metadata": {},
   "source": [
    "### 1 - Contar los bordes por filas y mostrar las filas con bordes por el encima de 90% del máximo"
   ]
  },
  {
   "cell_type": "code",
   "execution_count": null,
   "id": "initial_id",
   "metadata": {
    "ExecuteTime": {
     "end_time": "2025-09-18T15:36:12.960229Z",
     "start_time": "2025-09-18T15:36:12.739701Z"
    },
    "collapsed": true
   },
   "outputs": [],
   "source": [
    "row_counts = cv2.reduce(canny, 1, cv2.REDUCE_SUM, dtype=cv2.CV_32SC1)\n",
    "rows =[row_counts[i][0] / (255 * canny.shape[1]) for i in range(canny.shape[0])]\n",
    "\n",
    "max_border_number = max(rows)\n",
    "\n",
    "plt.figure()\n",
    "plt.subplot(1, 2, 1)\n",
    "plt.axis(\"off\")\n",
    "plt.title(\"Canny\")\n",
    "plt.imshow(canny, cmap='gray')\n",
    "\n",
    "plt.subplot(1, 2, 2)\n",
    "plt.title(\"Respuesta de Canny\")\n",
    "plt.xlabel(\"Filas\")\n",
    "plt.ylabel(\"% píxeles\")\n",
    "plt.plot(rows)\n",
    "plt.axhline(y=max_border_number*0.9, color='r')\n",
    "\n",
    "for i in range(len(rows)):\n",
    "    if rows[i] > max_border_number*0.9:\n",
    "        plt.axvline(x=i, color='g', linestyle=':')\n",
    "\n",
    "plt.xlim([0, canny.shape[0]])\n",
    "\n"
   ]
  },
  {
   "cell_type": "markdown",
   "id": "ffa584f4",
   "metadata": {},
   "source": [
    "2. TAREA: Aplica umbralizado a la imagen resultante de Sobel (convertida a 8 bits), y posteriormente realiza el conteo por filas y columnas similar al realizado en el ejemplo con la salida de Canny de píxeles no nulos. Calcula el valor máximo de la cuenta por filas y columnas, y determina las filas y columnas por encima del 0.90*máximo. Remarca con alguna primitiva gráfica dichas filas y columnas sobre la imagen del mandril. ¿Cómo se comparan los resultados obtenidos a partir de Sobel y Canny?"
   ]
  },
  {
   "cell_type": "code",
   "execution_count": null,
   "id": "4e12c075",
   "metadata": {},
   "outputs": [],
   "source": [
    "#Umbralizamos la imagen de 8 bits del mandril\n",
    "valorUmbral = 130\n",
    "_, imagenUmbralizada8np = cv2.threshold(sobel8np, valorUmbral, 255, cv2.THRESH_BINARY)\n",
    "#Conteo en columnas\n",
    "col_counts = cv2.reduce(imagenUmbralizada8np,0,cv2.REDUCE_SUM,dtype=cv2.CV_32SC1)\n",
    "cols = col_counts[0]/(255*imagenUmbralizada8np.shape[0])\n",
    "\n",
    "plt.figure()\n",
    "plt.subplot(1, 2, 1)\n",
    "plt.axis(\"off\")\n",
    "plt.title(\"Sobel + umbralización\")\n",
    "plt.imshow(imagenUmbralizada8np, cmap='gray')\n",
    "\n",
    "plt.subplot(1, 2, 2)\n",
    "plt.title(\"Respuesta de Sobel + umbralización\")\n",
    "plt.xlabel(\"Columnas\")\n",
    "plt.ylabel(\"% píxeles\")\n",
    "plt.plot(cols)\n",
    "plt.axhline(y=max_border_number*0.9, color='r')\n",
    "max_border_number = max(cols)\n",
    "for i in range(len(cols)):\n",
    "    if cols[i] > max_border_number*0.9:\n",
    "        plt.axvline(x=i, color='g', linestyle=':')\n",
    "\n",
    "\n",
    "\n",
    "row_counts = cv2.reduce(canny, 1, cv2.REDUCE_SUM, dtype=cv2.CV_32SC1)\n",
    "rows =[row_counts[i][0] / (255 * canny.shape[1]) for i in range(canny.shape[0])]\n",
    "max_border_number = max(rows)\n",
    "\n",
    "\n",
    "\n",
    "plt.figure()\n",
    "plt.subplot(1, 2, 1)\n",
    "plt.axis(\"off\")\n",
    "plt.title(\"Sobel + umbralización\")\n",
    "plt.imshow(imagenUmbralizada8np, cmap='gray')\n",
    "\n",
    "plt.subplot(1, 2, 2)\n",
    "plt.title(\"Respuesta de Sobel + umbralización\")\n",
    "plt.xlabel(\"Filas\")\n",
    "plt.ylabel(\"% píxeles\")\n",
    "plt.plot(rows)\n",
    "plt.axhline(y=max_border_number*0.9, color='r')\n",
    "\n",
    "for i in range(len(rows)):\n",
    "    if rows[i] > max_border_number*0.9:\n",
    "        plt.axvline(x=i, color='g', linestyle=':')\n",
    "\n",
    "plt.xlim([0, imagenUmbralizada8np.shape[0]])\n",
    "dif = cv2.absdiff(imagenUmbralizada8np, canny)\n",
    "\n",
    "#Visualiza\n",
    "plt.figure()\n",
    "plt.subplot(1, 2, 1)\n",
    "plt.title(\"Diferencias\")\n",
    "plt.axis(\"off\")\n",
    "plt.imshow(dif, cmap='gray') \n",
    "\n",
    "#Zonas de mayor diferencia tras aplicar umbral\n",
    "res, imgdif = cv2.threshold(dif, 30, 255, cv2.THRESH_BINARY)\n",
    "#Visualiza\n",
    "plt.subplot(1, 2, 2)\n",
    "plt.title(\"Mayores\")\n",
    "plt.axis(\"off\")\n",
    "plt.imshow(imgdif, cmap='gray') \n",
    "plt.show()\n"
   ]
  }
 ],
 "metadata": {
  "kernelspec": {
   "display_name": "Python 3",
   "language": "python",
   "name": "python3"
  },
  "language_info": {
   "codemirror_mode": {
    "name": "ipython",
    "version": 2
   },
   "file_extension": ".py",
   "mimetype": "text/x-python",
   "name": "python",
   "nbconvert_exporter": "python",
   "pygments_lexer": "ipython2",
   "version": "2.7.6"
  }
 },
 "nbformat": 4,
 "nbformat_minor": 5
}
